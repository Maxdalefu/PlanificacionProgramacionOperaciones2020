{
 "cells": [
  {
   "cell_type": "markdown",
   "metadata": {},
   "source": [
    "# Equilibrado de líneas\n",
    "\n",
    "Veamos un modelo matemático para resolver el problema"
   ]
  },
  {
   "cell_type": "code",
   "execution_count": null,
   "metadata": {},
   "outputs": [],
   "source": [
    "#vamos a imprimir el archivo (funciona en linux, en windows debería ejecutarse otra orden)\n",
    "run(`cat BOWMAN8.IN2`)"
   ]
  },
  {
   "cell_type": "markdown",
   "metadata": {},
   "source": [
    "## Declaración de librerías\n",
    "\n",
    "Debemos incluir la librería JuMP y los solvers a utilizar "
   ]
  },
  {
   "cell_type": "code",
   "execution_count": null,
   "metadata": {},
   "outputs": [],
   "source": [
    "using JuMP, CPLEX #CPLEX es el solver de IP de IBM.\n",
    "#using JuMP, GLPK"
   ]
  },
  {
   "cell_type": "markdown",
   "metadata": {},
   "source": [
    "## Lectura del archivo de datos\n",
    "\n",
    "Siguiendo el formato del archivo creamos una función que lee el número de tareas, la duración de cada tarea y las relaciones de precedencia entre dos tareas"
   ]
  },
  {
   "cell_type": "code",
   "execution_count": null,
   "metadata": {},
   "outputs": [],
   "source": [
    "## leo archivo y guardo datos\n",
    "## trucos para leer el archivo de forma rápida\n",
    "function readFile(filename)\n",
    "    f = open(filename, \"r\") # \"r\" -> read\n",
    "    s = readlines(f) #leer el archivo y guardarlo en la variable s\n",
    "    nt=parse(Int,s[1]) #lee el número de tareas\n",
    "    duracion=zeros(Int, nt) #crea vector de duraciones\n",
    "    precedencias=zeros(Int,nt,nt) #crea vector de precedencias\n",
    "    println(\"tareas \",nt)\n",
    "    for i in 1:nt #para cada pieza\n",
    "        duracion[i]=parse(Int,s[1+i]) #de la línea 2 a la línea 1+numero de tareas\n",
    "    end\n",
    "    println(\"duraciones\",duracion)    \n",
    "    c=1\n",
    "    while true\n",
    "        divided=split(s[nt+1+c],\",\") #línea número de tareas +1 + qué precedencia estoy mirando\n",
    "        if parse(Int,divided[1])==(-1) #si no hay un -1, entonces hay precedencia\n",
    "            break #pero si hay un -1 ya no hay que seguir leyendo\n",
    "        end\n",
    "        precedencias[parse(Int,divided[1]),parse(Int,divided[2])]=1 #tarea 1r número es precedente de tarea 2o número\n",
    "        c+=1 \n",
    "    end\n",
    "    println(\"precedencias\",precedencias)\n",
    "    close(f)\n",
    "    return nt,duracion,precedencias\n",
    "end"
   ]
  },
  {
   "cell_type": "code",
   "execution_count": null,
   "metadata": {},
   "outputs": [],
   "source": [
    "nt,duracion,precedencias=readFile(\"BOWMAN8.IN2\") #las devuelve por separado (luego veremos en C otra manera de hacerlo)"
   ]
  },
  {
   "cell_type": "code",
   "execution_count": null,
   "metadata": {},
   "outputs": [],
   "source": [
    "function salbp1(nt,c,duracion,precedencias) #número de tareas, tiempo de ciclo, vector duración, matriz de precedencias\n",
    "    model = Model(CPLEX.Optimizer)\n",
    "    #model=Model(GLPK.Optimizer)\n",
    "    #set_optimizer_attribute(model,\"msg_lev\",GLPK.GLP_MSG_ALL)\n",
    "    @variable(model,x[1:nt,1:nt],Bin) #tarea i en estación j \n",
    "                                        ### los rangos -> el número máximo de estaciones es igual al número de tareas\n",
    "    @variable(model,y[1:nt],Bin) #Estación j\n",
    "    #minimizar el número de estaciones\n",
    "    @objective(model, Min, sum(y[i] for i in 1:nt)) #minimizo el número de estaciones usadas\n",
    "    #asignar cada tarea\n",
    "    @constraint(model,[i in 1:nt], #una restricción para cada tarea\n",
    "        sum(x[i,j] for j in 1:nt) == 1 #suma debe ser igual a 1\n",
    "    ) \n",
    "    #tiempo de ciclo\n",
    "    @constraint(model,[j in 1:nt], #una restricción para cada estación\n",
    "        sum(duracion[i]*x[i,j] for i in 1:nt) <= c*y[j] #suma menor o igual a 0 ó a c\n",
    "    ) \n",
    "    #precedencias\n",
    "    for i in 1:nt\n",
    "        for j in 1:nt\n",
    "            if precedencias[i,j]==1\n",
    "                @constraint(model,\n",
    "                    sum(k*x[i,k] for k in 1:nt) <= sum(k*x[j,k] for k in 1:nt)\n",
    "                )\n",
    "            end\n",
    "        end\n",
    "    end\n",
    "    #restricción eliminación estaciones vacías\n",
    "    #muy importantes en problemas difíciles (eliminan simetrías)\n",
    "    #tu definición de y -> no recoge la realidad de orden\n",
    "    #or j in 1:nt-1\n",
    "    #   @constraint(model,y[j]>=y[j+1]) #esta restricción informa de realidad de orden\n",
    "    #nd\n",
    "\n",
    "    #println(model)\n",
    "    optimize!(model)\n",
    "    println(\"Objective: \",objective_value(model))\n",
    "    for i in 1:nt\n",
    "        println(\"y[$i] = \", JuMP.value(y[i])) #sólo imprima variables de uso de estación\n",
    "    end\n",
    "end"
   ]
  },
  {
   "cell_type": "code",
   "execution_count": null,
   "metadata": {},
   "outputs": [],
   "source": [
    "salbp1(nt,20,duracion,precedencias)"
   ]
  },
  {
   "cell_type": "code",
   "execution_count": null,
   "metadata": {},
   "outputs": [],
   "source": []
  },
  {
   "cell_type": "code",
   "execution_count": null,
   "metadata": {},
   "outputs": [],
   "source": []
  }
 ],
 "metadata": {
  "kernelspec": {
   "display_name": "Julia 1.5.1",
   "language": "julia",
   "name": "julia-1.5"
  },
  "language_info": {
   "file_extension": ".jl",
   "mimetype": "application/julia",
   "name": "julia",
   "version": "1.5.1"
  }
 },
 "nbformat": 4,
 "nbformat_minor": 4
}
