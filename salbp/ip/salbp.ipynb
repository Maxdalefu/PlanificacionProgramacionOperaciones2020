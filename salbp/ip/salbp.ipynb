{
 "cells": [
  {
   "cell_type": "markdown",
   "metadata": {},
   "source": [
    "# Equilibrado de líneas\n",
    "\n",
    "Veamos un modelo matemático para resolver el problema"
   ]
  },
  {
   "cell_type": "code",
   "execution_count": null,
   "metadata": {},
   "outputs": [],
   "source": [
    "#vamos a imprimir el archivo (funciona en linux, en windows debería ejecutarse otra orden)\n",
    "run(`cat SAWYER30.IN2`)"
   ]
  },
  {
   "cell_type": "markdown",
   "metadata": {},
   "source": [
    "## Declaración de librerías\n",
    "\n",
    "Debemos incluir la librería JuMP y los solvers a utilizar "
   ]
  },
  {
   "cell_type": "code",
   "execution_count": null,
   "metadata": {},
   "outputs": [],
   "source": [
    "using JuMP, CPLEX #CPLEX es el solver de IP de IBM.\n",
    "#using JuMP, GLPK"
   ]
  },
  {
   "cell_type": "markdown",
   "metadata": {},
   "source": [
    "## Lectura del archivo de datos\n",
    "\n",
    "Siguiendo el formato del archivo creamos una función que lee el número de tareas, la duración de cada tarea y las relaciones de precedencia entre dos tareas"
   ]
  },
  {
   "cell_type": "code",
   "execution_count": null,
   "metadata": {},
   "outputs": [],
   "source": [
    "## leo archivo y guardo datos\n",
    "function readFile(filename)\n",
    "    f = open(filename, \"r\") # \"r\" -> read\n",
    "    s = readlines(f) #leer el archivo y guardarlo en la variable s\n",
    "    nt=parse(Int,s[1]) #lee el número de tareas\n",
    "    duracion=zeros(Int, nt) #crea vector de duraciones\n",
    "    precedencias=zeros(Int,nt,nt) #crea vector de precedencias\n",
    "    println(\"tareas \",nt)\n",
    "    for i in 1:nt #para cada pieza\n",
    "        duracion[i]=parse(Int,s[1+i])\n",
    "    end\n",
    "    println(\"duraciones\",duracion)    \n",
    "    c=1\n",
    "    while true\n",
    "        divided=split(s[nt+1+c],\",\")\n",
    "        if parse(Int,divided[1])==(-1)\n",
    "            break\n",
    "        end\n",
    "        precedencias[parse(Int,divided[1]),parse(Int,divided[2])]=1\n",
    "        c+=1\n",
    "    end\n",
    "    println(\"precedencias\",precedencias)\n",
    "    close(f)\n",
    "    return nt,duracion,precedencias\n",
    "end"
   ]
  },
  {
   "cell_type": "code",
   "execution_count": null,
   "metadata": {},
   "outputs": [],
   "source": [
    "nt,duracion,precedencias=readFile(\"SAWYER30.IN2\")"
   ]
  },
  {
   "cell_type": "code",
   "execution_count": null,
   "metadata": {},
   "outputs": [],
   "source": [
    "function salbp1(nt,c,duracion,precedencias)\n",
    "    model = Model(CPLEX.Optimizer)\n",
    "    #model=Model(GLPK.Optimizer)\n",
    "    #set_optimizer_attribute(model,\"msg_lev\",GLPK.GLP_MSG_ALL)\n",
    "    @variable(model,x[1:nt,1:nt],Bin) #tarea i en estación j\n",
    "    @variable(model,y[1:nt],Bin) #Estación j\n",
    "    #minimizar el número de estaciones\n",
    "    @objective(model, Min, sum(y[i] for i in 1:nt))\n",
    "    #asignar cada tarea\n",
    "    @constraint(model,[i in 1:nt],\n",
    "        sum(x[i,j] for j in 1:nt) == 1\n",
    "    ) \n",
    "    #tiempo de ciclo\n",
    "    @constraint(model,[j in 1:nt],\n",
    "        sum(duracion[i]*x[i,j] for i in 1:nt) <= c*y[j]\n",
    "    ) \n",
    "    #precedencias\n",
    "    for i in 1:nt\n",
    "        for j in 1:nt\n",
    "            if precedencias[i,j]==1\n",
    "                @constraint(model,\n",
    "                    sum(k*x[i,k] for k in 1:nt) <= sum(k*x[j,k] for k in 1:nt)\n",
    "                )\n",
    "            end\n",
    "        end\n",
    "    end\n",
    "\n",
    "    #println(model)\n",
    "    optimize!(model)\n",
    "    println(\"Objective: \",objective_value(model))\n",
    "    for i in 1:nt\n",
    "        println(\"y[$i] = \", JuMP.value(y[i]))\n",
    "    end\n",
    "end"
   ]
  },
  {
   "cell_type": "code",
   "execution_count": null,
   "metadata": {},
   "outputs": [],
   "source": [
    "salbp1(nt,27,duracion,precedencias)"
   ]
  },
  {
   "cell_type": "code",
   "execution_count": null,
   "metadata": {},
   "outputs": [],
   "source": []
  },
  {
   "cell_type": "code",
   "execution_count": null,
   "metadata": {},
   "outputs": [],
   "source": []
  }
 ],
 "metadata": {
  "kernelspec": {
   "display_name": "Julia 1.5.1",
   "language": "julia",
   "name": "julia-1.5"
  },
  "language_info": {
   "file_extension": ".jl",
   "mimetype": "application/julia",
   "name": "julia",
   "version": "1.5.1"
  }
 },
 "nbformat": 4,
 "nbformat_minor": 4
}
