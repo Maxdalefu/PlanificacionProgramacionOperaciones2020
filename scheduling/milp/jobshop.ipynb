{
 "cells": [
  {
   "cell_type": "markdown",
   "metadata": {},
   "source": [
    "# Jobshop\n",
    "\n",
    "Veamos un modelo de programación entera para el problema de jobshop.\n",
    "\n",
    "Usaremos cplex como solver pero podemos utilizar cualquier otro solver de programación lineal.\n",
    "\n",
    "Aparte de la resolución mediante el solver, veremos cómo leer una instancia de un archivo de texto"
   ]
  },
  {
   "cell_type": "code",
   "execution_count": null,
   "metadata": {},
   "outputs": [],
   "source": [
    "#vamos a imprimir el archivo (funciona en linux, en windows debería ejecutarse otra orden)\n",
    "run(`cat mt10.txt`)"
   ]
  },
  {
   "cell_type": "markdown",
   "metadata": {},
   "source": [
    "## Declaración de librerías\n",
    "\n",
    "Debemos incluir la librería JuMP y los solvers a utilizar "
   ]
  },
  {
   "cell_type": "code",
   "execution_count": null,
   "metadata": {},
   "outputs": [],
   "source": [
    "using JuMP, CPLEX #CPLEX es el solver de IP de IBM.\n",
    "#using JuMP, GLPK"
   ]
  },
  {
   "cell_type": "markdown",
   "metadata": {},
   "source": [
    "## Lectura del archivo de datos\n",
    "\n",
    "Siguiendo el formato del archivo creamos una función que lee el número de piezas (trabajos), el número de máquinas y dos matrices asociadas a la duración de las operaciones de cada pieza en cada máquina y la ruta de cada pieza"
   ]
  },
  {
   "cell_type": "code",
   "execution_count": null,
   "metadata": {},
   "outputs": [],
   "source": [
    "## leo archivo y guardo datos (could use println instead of print)\n",
    "function readFile(filename)\n",
    "    f = open(filename, \"r\") # \"r\" -> read\n",
    "    s = readlines(f) #leer el archivo y guardarlo en la variable s\n",
    "    n=parse(Int,s[2]) #lee el número de piezas\n",
    "    m=parse(Int,s[4]) #lee el número de máquinas\n",
    "    ruta=zeros(Int, n, m) #crea la matriz de ruta (lo que tiene que hacer cada pieza)\n",
    "    processing=zeros(Int,n,m) #crea la matriz de tiempos de proceso\n",
    "    print(\"número piezas \",n,\"\\nnúmero de máquinas \",m,\"\\n\")\n",
    "    print(\"ruta:\\n\")\n",
    "    for i in 1:n #para cada pieza\n",
    "        divided=split(s[5+i]) #¿Qué significa 5+i?\n",
    "        for j in 1:m #mira las máquinas\n",
    "            ruta[i,j]=parse(Int,divided[j]) #lee las rutas\n",
    "            print(ruta[i,j],\"\\t\")\n",
    "        end\n",
    "        print(\"\\n\")\n",
    "    end\n",
    "    print(\"duraciones:\\n\")\n",
    "    for i in 1:n\n",
    "        divided=split(s[6+n+i])\n",
    "        for j in 1:m\n",
    "            processing[i,j]=parse(Int,divided[j])\n",
    "            print(processing[i,j],\"\\t\") # processing[i][j] (en python)\n",
    "        end\n",
    "        print(\"\\n\")\n",
    "    end\n",
    "    close(f)\n",
    "    return n,m,processing,ruta\n",
    "end"
   ]
  },
  {
   "cell_type": "code",
   "execution_count": null,
   "metadata": {},
   "outputs": [],
   "source": [
    "n,m,processing,ruta=readFile(\"mt10.txt\")"
   ]
  },
  {
   "cell_type": "markdown",
   "metadata": {},
   "source": [
    "## Construcción del modelo\n",
    "\n",
    "Declaramos variables de tiempo de inicio, precedencia y disyuntivas\n",
    "\n",
    "Las disyuntivas se implementan usando una big-M y variables binarias auxiliares que aseguran que se cumplan una u otra condición ($a$ acaba antes que empiece $b$, o $b$ acaba antes que empiece $a$)"
   ]
  },
  {
   "cell_type": "code",
   "execution_count": null,
   "metadata": {},
   "outputs": [],
   "source": [
    "function jobshop(n, m, p, r)\n",
    "  model = Model(CPLEX.Optimizer)\n",
    "  #model=Model(GLPK.Optimizer)\n",
    "  #set_optimizer_attribute(model,\"msg_lev\",GLPK.GLP_MSG_ALL)\n",
    "  @variable(model,s[1:n,1:m]>=0) #variables continuas\n",
    "  @variable(model,C>=0) #variable continua\n",
    "  @objective(model, Min, C) #objetivo es minimizar el tiempo de completación\n",
    "  M=sum(p) # M= \\sum_{i=1}^{n} \\sum_{j=1}^m p_{i,j}\n",
    "\n",
    "  #restricciones fáciles\n",
    "  for i in 1:n\n",
    "    for j in 1:m-1\n",
    "      @constraint(model,s[i,j]+p[i,j]<=s[i,j+1]) #precedencias\n",
    "    end\n",
    "    @constraint(model,s[i,m]+p[i,m]<=C) #cálculo del tiempo de final\n",
    "  end\n",
    "  #restricciones difíciles\n",
    "  for i in 1:n #i\n",
    "    for ii in i+1:n #i' (con truco para eliminar simetrías)\n",
    "      for j in 1:m\n",
    "        for jj in 1:m\n",
    "          if ruta[i,j]==ruta[ii,jj] # son la misma máquina\n",
    "            z=@variable(model,base_name =\"z_$(i)_$(ii)_$(j)\",binary=true) #binaria especial\n",
    "            @constraint(model,s[i,j]+p[i,j]-s[ii,jj]<=z*M) #o i acaba antes que j\n",
    "            @constraint(model,s[ii,jj]+p[ii,jj]-s[i,j]<=(1-z)*M) #o j acaba antes que i\n",
    "          end\n",
    "        end\n",
    "      end\n",
    "    end\n",
    "  end\n",
    "  #println(model)\n",
    "  optimize!(model)\n",
    "  println(\"Objective: \",objective_value(model))\n",
    "#  for i in 1:n\n",
    "#    for j in 1:m\n",
    "#      println(i,\"\\t\",j,\"\\t\",value(s[i,j]))\n",
    "#    end\n",
    "#  end\n",
    "end"
   ]
  },
  {
   "cell_type": "code",
   "execution_count": null,
   "metadata": {},
   "outputs": [],
   "source": [
    "jobshop(n,m,processing,ruta)"
   ]
  },
  {
   "cell_type": "code",
   "execution_count": null,
   "metadata": {},
   "outputs": [],
   "source": []
  }
 ],
 "metadata": {
  "kernelspec": {
   "display_name": "Julia 1.5.1",
   "language": "julia",
   "name": "julia-1.5"
  },
  "language_info": {
   "file_extension": ".jl",
   "mimetype": "application/julia",
   "name": "julia",
   "version": "1.5.1"
  }
 },
 "nbformat": 4,
 "nbformat_minor": 4
}
